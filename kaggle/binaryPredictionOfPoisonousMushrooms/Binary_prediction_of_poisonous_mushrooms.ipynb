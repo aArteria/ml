{
 "cells": [
  {
   "cell_type": "raw",
   "id": "bcd4e749-f4dd-49ad-bdba-ae9162a1b35e",
   "metadata": {},
   "source": [
    "https://www.kaggle.com/competitions/playground-series-s4e8/overview"
   ]
  },
  {
   "cell_type": "code",
   "execution_count": 1,
   "id": "2ba717f9-5cc3-4078-b5e8-1a8c5867dec4",
   "metadata": {},
   "outputs": [],
   "source": [
    "import pandas as pd"
   ]
  },
  {
   "cell_type": "code",
   "execution_count": 2,
   "id": "a3768a04-0d3f-40a6-9056-e52790048238",
   "metadata": {},
   "outputs": [],
   "source": [
    "df = pd.read_csv('train.zip')"
   ]
  },
  {
   "cell_type": "code",
   "execution_count": 3,
   "id": "1b00493b-ac0a-462f-9be3-e28aeb3dc670",
   "metadata": {},
   "outputs": [
    {
     "data": {
      "text/html": [
       "<div>\n",
       "<style scoped>\n",
       "    .dataframe tbody tr th:only-of-type {\n",
       "        vertical-align: middle;\n",
       "    }\n",
       "\n",
       "    .dataframe tbody tr th {\n",
       "        vertical-align: top;\n",
       "    }\n",
       "\n",
       "    .dataframe thead th {\n",
       "        text-align: right;\n",
       "    }\n",
       "</style>\n",
       "<table border=\"1\" class=\"dataframe\">\n",
       "  <thead>\n",
       "    <tr style=\"text-align: right;\">\n",
       "      <th></th>\n",
       "      <th>id</th>\n",
       "      <th>class</th>\n",
       "      <th>cap-diameter</th>\n",
       "      <th>cap-shape</th>\n",
       "      <th>cap-surface</th>\n",
       "      <th>cap-color</th>\n",
       "      <th>does-bruise-or-bleed</th>\n",
       "      <th>gill-attachment</th>\n",
       "      <th>gill-spacing</th>\n",
       "      <th>gill-color</th>\n",
       "      <th>...</th>\n",
       "      <th>stem-root</th>\n",
       "      <th>stem-surface</th>\n",
       "      <th>stem-color</th>\n",
       "      <th>veil-type</th>\n",
       "      <th>veil-color</th>\n",
       "      <th>has-ring</th>\n",
       "      <th>ring-type</th>\n",
       "      <th>spore-print-color</th>\n",
       "      <th>habitat</th>\n",
       "      <th>season</th>\n",
       "    </tr>\n",
       "  </thead>\n",
       "  <tbody>\n",
       "    <tr>\n",
       "      <th>0</th>\n",
       "      <td>0</td>\n",
       "      <td>e</td>\n",
       "      <td>8.80</td>\n",
       "      <td>f</td>\n",
       "      <td>s</td>\n",
       "      <td>u</td>\n",
       "      <td>f</td>\n",
       "      <td>a</td>\n",
       "      <td>c</td>\n",
       "      <td>w</td>\n",
       "      <td>...</td>\n",
       "      <td>NaN</td>\n",
       "      <td>NaN</td>\n",
       "      <td>w</td>\n",
       "      <td>NaN</td>\n",
       "      <td>NaN</td>\n",
       "      <td>f</td>\n",
       "      <td>f</td>\n",
       "      <td>NaN</td>\n",
       "      <td>d</td>\n",
       "      <td>a</td>\n",
       "    </tr>\n",
       "    <tr>\n",
       "      <th>1</th>\n",
       "      <td>1</td>\n",
       "      <td>p</td>\n",
       "      <td>4.51</td>\n",
       "      <td>x</td>\n",
       "      <td>h</td>\n",
       "      <td>o</td>\n",
       "      <td>f</td>\n",
       "      <td>a</td>\n",
       "      <td>c</td>\n",
       "      <td>n</td>\n",
       "      <td>...</td>\n",
       "      <td>NaN</td>\n",
       "      <td>y</td>\n",
       "      <td>o</td>\n",
       "      <td>NaN</td>\n",
       "      <td>NaN</td>\n",
       "      <td>t</td>\n",
       "      <td>z</td>\n",
       "      <td>NaN</td>\n",
       "      <td>d</td>\n",
       "      <td>w</td>\n",
       "    </tr>\n",
       "    <tr>\n",
       "      <th>2</th>\n",
       "      <td>2</td>\n",
       "      <td>e</td>\n",
       "      <td>6.94</td>\n",
       "      <td>f</td>\n",
       "      <td>s</td>\n",
       "      <td>b</td>\n",
       "      <td>f</td>\n",
       "      <td>x</td>\n",
       "      <td>c</td>\n",
       "      <td>w</td>\n",
       "      <td>...</td>\n",
       "      <td>NaN</td>\n",
       "      <td>s</td>\n",
       "      <td>n</td>\n",
       "      <td>NaN</td>\n",
       "      <td>NaN</td>\n",
       "      <td>f</td>\n",
       "      <td>f</td>\n",
       "      <td>NaN</td>\n",
       "      <td>l</td>\n",
       "      <td>w</td>\n",
       "    </tr>\n",
       "    <tr>\n",
       "      <th>3</th>\n",
       "      <td>3</td>\n",
       "      <td>e</td>\n",
       "      <td>3.88</td>\n",
       "      <td>f</td>\n",
       "      <td>y</td>\n",
       "      <td>g</td>\n",
       "      <td>f</td>\n",
       "      <td>s</td>\n",
       "      <td>NaN</td>\n",
       "      <td>g</td>\n",
       "      <td>...</td>\n",
       "      <td>NaN</td>\n",
       "      <td>NaN</td>\n",
       "      <td>w</td>\n",
       "      <td>NaN</td>\n",
       "      <td>NaN</td>\n",
       "      <td>f</td>\n",
       "      <td>f</td>\n",
       "      <td>NaN</td>\n",
       "      <td>d</td>\n",
       "      <td>u</td>\n",
       "    </tr>\n",
       "    <tr>\n",
       "      <th>4</th>\n",
       "      <td>4</td>\n",
       "      <td>e</td>\n",
       "      <td>5.85</td>\n",
       "      <td>x</td>\n",
       "      <td>l</td>\n",
       "      <td>w</td>\n",
       "      <td>f</td>\n",
       "      <td>d</td>\n",
       "      <td>NaN</td>\n",
       "      <td>w</td>\n",
       "      <td>...</td>\n",
       "      <td>NaN</td>\n",
       "      <td>NaN</td>\n",
       "      <td>w</td>\n",
       "      <td>NaN</td>\n",
       "      <td>NaN</td>\n",
       "      <td>f</td>\n",
       "      <td>f</td>\n",
       "      <td>NaN</td>\n",
       "      <td>g</td>\n",
       "      <td>a</td>\n",
       "    </tr>\n",
       "  </tbody>\n",
       "</table>\n",
       "<p>5 rows × 22 columns</p>\n",
       "</div>"
      ],
      "text/plain": [
       "   id class  cap-diameter cap-shape cap-surface cap-color  \\\n",
       "0   0     e          8.80         f           s         u   \n",
       "1   1     p          4.51         x           h         o   \n",
       "2   2     e          6.94         f           s         b   \n",
       "3   3     e          3.88         f           y         g   \n",
       "4   4     e          5.85         x           l         w   \n",
       "\n",
       "  does-bruise-or-bleed gill-attachment gill-spacing gill-color  ...  \\\n",
       "0                    f               a            c          w  ...   \n",
       "1                    f               a            c          n  ...   \n",
       "2                    f               x            c          w  ...   \n",
       "3                    f               s          NaN          g  ...   \n",
       "4                    f               d          NaN          w  ...   \n",
       "\n",
       "   stem-root  stem-surface stem-color veil-type veil-color has-ring ring-type  \\\n",
       "0        NaN           NaN          w       NaN        NaN        f         f   \n",
       "1        NaN             y          o       NaN        NaN        t         z   \n",
       "2        NaN             s          n       NaN        NaN        f         f   \n",
       "3        NaN           NaN          w       NaN        NaN        f         f   \n",
       "4        NaN           NaN          w       NaN        NaN        f         f   \n",
       "\n",
       "  spore-print-color habitat season  \n",
       "0               NaN       d      a  \n",
       "1               NaN       d      w  \n",
       "2               NaN       l      w  \n",
       "3               NaN       d      u  \n",
       "4               NaN       g      a  \n",
       "\n",
       "[5 rows x 22 columns]"
      ]
     },
     "execution_count": 3,
     "metadata": {},
     "output_type": "execute_result"
    }
   ],
   "source": [
    "df.head()"
   ]
  },
  {
   "cell_type": "code",
   "execution_count": 4,
   "id": "13726fa5-9beb-40bb-8148-c48695e4f265",
   "metadata": {},
   "outputs": [
    {
     "name": "stdout",
     "output_type": "stream",
     "text": [
      "<class 'pandas.core.frame.DataFrame'>\n",
      "RangeIndex: 3116945 entries, 0 to 3116944\n",
      "Data columns (total 22 columns):\n",
      " #   Column                Dtype  \n",
      "---  ------                -----  \n",
      " 0   id                    int64  \n",
      " 1   class                 object \n",
      " 2   cap-diameter          float64\n",
      " 3   cap-shape             object \n",
      " 4   cap-surface           object \n",
      " 5   cap-color             object \n",
      " 6   does-bruise-or-bleed  object \n",
      " 7   gill-attachment       object \n",
      " 8   gill-spacing          object \n",
      " 9   gill-color            object \n",
      " 10  stem-height           float64\n",
      " 11  stem-width            float64\n",
      " 12  stem-root             object \n",
      " 13  stem-surface          object \n",
      " 14  stem-color            object \n",
      " 15  veil-type             object \n",
      " 16  veil-color            object \n",
      " 17  has-ring              object \n",
      " 18  ring-type             object \n",
      " 19  spore-print-color     object \n",
      " 20  habitat               object \n",
      " 21  season                object \n",
      "dtypes: float64(3), int64(1), object(18)\n",
      "memory usage: 523.2+ MB\n"
     ]
    }
   ],
   "source": [
    "df.info()"
   ]
  },
  {
   "cell_type": "markdown",
   "id": "ddd49c02-e5dd-4d80-bf78-4d5b03f0571b",
   "metadata": {},
   "source": [
    "### Class"
   ]
  },
  {
   "cell_type": "code",
   "execution_count": 5,
   "id": "84208daf-02c8-48be-83f4-9a8779f0ba4d",
   "metadata": {},
   "outputs": [
    {
     "data": {
      "text/plain": [
       "array(['e', 'p'], dtype=object)"
      ]
     },
     "execution_count": 5,
     "metadata": {},
     "output_type": "execute_result"
    }
   ],
   "source": [
    "df['class'].unique()"
   ]
  },
  {
   "cell_type": "code",
   "execution_count": 6,
   "id": "5645e1eb-effb-4e39-b93a-7d6034c2615e",
   "metadata": {},
   "outputs": [],
   "source": [
    "df['class'].replace({'p':1, 'e':0}, inplace=True)"
   ]
  },
  {
   "cell_type": "markdown",
   "id": "3ce36d98-9c98-482c-8fee-274640aac2b0",
   "metadata": {},
   "source": [
    "### Season"
   ]
  },
  {
   "cell_type": "code",
   "execution_count": 7,
   "id": "36ddb83a-a357-4da4-804d-acbbf0fe6c2e",
   "metadata": {},
   "outputs": [
    {
     "data": {
      "text/plain": [
       "array(['a', 'w', 'u', 's'], dtype=object)"
      ]
     },
     "execution_count": 7,
     "metadata": {},
     "output_type": "execute_result"
    }
   ],
   "source": [
    "df['season'].unique()"
   ]
  },
  {
   "cell_type": "code",
   "execution_count": 8,
   "id": "787d1a28-2ff0-4f3e-a491-cc875fb81b63",
   "metadata": {},
   "outputs": [],
   "source": [
    "df['season'].replace({'a':0, 'w':1, 'u':2, 's':3}, inplace=True)"
   ]
  },
  {
   "cell_type": "raw",
   "id": "b151f7d6-1804-47b0-9ccb-e85268f92139",
   "metadata": {},
   "source": [
    "Все пропуски отнесу в отдельную категорию"
   ]
  },
  {
   "cell_type": "code",
   "execution_count": 9,
   "id": "79363abc-0346-4a61-987a-f03179168a00",
   "metadata": {},
   "outputs": [],
   "source": [
    "def replace_cat_to_num(feature):\n",
    "    value_list = df[feature].unique()\n",
    "    print(f'Все значения {feature}: {value_list}')\n",
    "    \n",
    "    length = len(value_list)\n",
    "    \n",
    "    df[feature].replace(value_list, range(length), inplace=True)\n",
    "    print(f'Новые значения {feature}: {df[feature].unique()}')"
   ]
  },
  {
   "cell_type": "markdown",
   "id": "bca629ae-ced8-43c2-a46a-27f912a6719e",
   "metadata": {},
   "source": [
    "### Cap-shape"
   ]
  },
  {
   "cell_type": "code",
   "execution_count": 10,
   "id": "5c1e50a5-a516-403d-8b7e-56933dade8c3",
   "metadata": {},
   "outputs": [
    {
     "name": "stdout",
     "output_type": "stream",
     "text": [
      "Все значения cap-shape: ['f' 'x' 'p' 'b' 'o' 'c' 's' 'd' 'e' 'n' nan 'w' 'k' 'l' '19.29' '5 f' 't'\n",
      " 'g' 'z' 'a' '2.85' '7 x' 'r' 'u' '3.55' 'is s' 'y' '4.22' '3.6' '21.56'\n",
      " 'i' '6 x' '24.16' '8' 'm' 'ring-type' '10.13' 'is p' '7.43' 'h' '0.82'\n",
      " '10.46' '2.77' '2.94' '12.62' '5.15' '19.04' '4.97' '49.21' 'b f' '9.13'\n",
      " '1.66' '3.37' '7.21' '3.25' '11.12' '3 x' '4.3' '7.41' '6.21' '8.29'\n",
      " '54.78' '20.25' '3.52' '3.04' '2.63' '3.91' '6.44' '8.3' '7.6' '17.44'\n",
      " '4.33' '2.82' '6.53' '19.06']\n",
      "Новые значения cap-shape: [ 0  1  2  3  4  5  6  7  8  9 10 11 12 13 14 15 16 17 18 19 20 21 22 23\n",
      " 24 25 26 27 28 29 30 31 32 33 34 35 36 37 38 39 40 41 42 43 44 45 46 47\n",
      " 48 49 50 51 52 53 54 55 56 57 58 59 60 61 62 63 64 65 66 67 68 69 70 71\n",
      " 72 73 74]\n"
     ]
    }
   ],
   "source": [
    "replace_cat_to_num('cap-shape')"
   ]
  },
  {
   "cell_type": "markdown",
   "id": "c4da113f-94cb-46ca-94ae-8f7285d44727",
   "metadata": {},
   "source": [
    "### Cap-surface"
   ]
  },
  {
   "cell_type": "code",
   "execution_count": 11,
   "id": "afe76723-3ffc-4656-a744-1f0bc95bbb00",
   "metadata": {},
   "outputs": [
    {
     "name": "stdout",
     "output_type": "stream",
     "text": [
      "Все значения cap-surface: ['s' 'h' 'y' 'l' 't' 'e' 'g' nan 'd' 'i' 'w' 'k' '15.94' 'f' 'n' 'r' 'o'\n",
      " 'a' 'u' 'z' '2.7' 'does l' '5.07' 'p' 'b' 'm' 'cap-diameter' '1.43' 'x'\n",
      " '7.14' 'c' 'is h' 'does t' '0.85' '6.57' '12.79' '6.45' '4.66' '23.18'\n",
      " '3.06' '16.39' '4.21' 'veil-color' '11.78' '8.1' 'has-ring' 'does h'\n",
      " '1.42' 'class' 'has h' 'does None' '10.83' 'season' '8.96' '14.04' '5.73'\n",
      " 'is None' '24.38' '2.81' '0.88' '2.11' '2.79' 'ring-type'\n",
      " 'does-bruise-or-bleed' '4.93' 'spore-print-color' 'spore-color' '2.92'\n",
      " '2.51' '7.99' 'is y' '3.64' '3.33' '41.91' '12.2' '8.01' '9.22' '1.14'\n",
      " '6.49' '10.34' '10.1' '1.08' 'is k' '0.87']\n",
      "Новые значения cap-surface: [ 0  1  2  3  4  5  6  7  8  9 10 11 12 13 14 15 16 17 18 19 20 21 22 23\n",
      " 24 25 26 27 28 29 30 31 32 33 34 35 36 37 38 39 40 41 42 43 44 45 46 47\n",
      " 48 49 50 51 52 53 54 55 56 57 58 59 60 61 62 63 64 65 66 67 68 69 70 71\n",
      " 72 73 74 75 76 77 78 79 80 81 82 83]\n"
     ]
    }
   ],
   "source": [
    "replace_cat_to_num('cap-surface')"
   ]
  },
  {
   "cell_type": "markdown",
   "id": "480780ec-5bf6-4e7f-a2d8-5fa102a76210",
   "metadata": {},
   "source": [
    "### Cap-color"
   ]
  },
  {
   "cell_type": "code",
   "execution_count": 12,
   "id": "da745903-0e57-4dc2-b669-5992fca08aa8",
   "metadata": {},
   "outputs": [
    {
     "name": "stdout",
     "output_type": "stream",
     "text": [
      "Все значения cap-color: ['u' 'o' 'b' 'g' 'w' 'n' 'e' 'y' 'r' 'p' 'k' 'l' 'i' 'h' 'd' 's' 'a' 'f'\n",
      " '2.05' 'season' 'c' 'x' '13' '7.72' 'm' 'z' '6.76' '7.15' 't' 'ring-type'\n",
      " nan 'class' '12.89' '8.83' '24.75' '22.38' '1.51' '10.1' '17.94' '3.57'\n",
      " 'does n' '4.89' '6.2' '21.53' '6.41' '4.98' '3.95' 'does-bruise-or-bleed'\n",
      " '6.59' '5.25' 'veil-color' '6.9' '5.41' '11.13' '3.11' '2.57' '17.93'\n",
      " '2.7' '8.57' '11.92' '3.08' '2.82' '4.24' '17.19' '3.34' '7' '2.9' '6.36'\n",
      " '5.91' '10.56' '26.89' '4. n' '20.62' 'stem-surface' '20.02' '20' '25.98'\n",
      " '8.67' '9.02']\n",
      "Новые значения cap-color: [ 0  1  2  3  4  5  6  7  8  9 10 11 12 13 14 15 16 17 18 19 20 21 22 23\n",
      " 24 25 26 27 28 29 30 31 32 33 34 35 36 37 38 39 40 41 42 43 44 45 46 47\n",
      " 48 49 50 51 52 53 54 55 56 57 58 59 60 61 62 63 64 65 66 67 68 69 70 71\n",
      " 72 73 74 75 76 77 78]\n"
     ]
    }
   ],
   "source": [
    "replace_cat_to_num('cap-color')"
   ]
  },
  {
   "cell_type": "markdown",
   "id": "12d78c0a-c81b-41fd-bc33-384b732ef0f6",
   "metadata": {},
   "source": [
    "### Does-bruise-or-bleed"
   ]
  },
  {
   "cell_type": "code",
   "execution_count": 13,
   "id": "80038dd0-280f-42e7-a4d4-50d77025438f",
   "metadata": {},
   "outputs": [
    {
     "name": "stdout",
     "output_type": "stream",
     "text": [
      "Все значения does-bruise-or-bleed: ['f' 't' 'd' 'has-ring' 'w' 'o' 'b' 'x' 'p' nan 'g' 'y' 'r' 'a' 'l' 'i'\n",
      " 'c' 'n' 'z' 's' 'k' 'h' '3.43' 'e' '4.42' '2.9' 'u']\n",
      "Новые значения does-bruise-or-bleed: [ 0  1  2  3  4  5  6  7  8  9 10 11 12 13 14 15 16 17 18 19 20 21 22 23\n",
      " 24 25 26]\n"
     ]
    }
   ],
   "source": [
    "replace_cat_to_num('does-bruise-or-bleed')"
   ]
  },
  {
   "cell_type": "markdown",
   "id": "3ba3592d-2305-4446-8fc5-a143621db962",
   "metadata": {},
   "source": [
    "### Gill-attachment"
   ]
  },
  {
   "cell_type": "code",
   "execution_count": 14,
   "id": "5f1085ac-c0e8-4f05-b3f1-85d24ace2634",
   "metadata": {},
   "outputs": [
    {
     "name": "stdout",
     "output_type": "stream",
     "text": [
      "Все значения gill-attachment: ['a' 'x' 's' 'd' 'e' nan 'f' 'p' 'l' 'm' 'b' '32.54' 'n' 'g' 'i' 'u'\n",
      " 'does-bruise-or-bleed' 't' 'o' 'c' 'w' '4.64' 'k' 'r' '4.77' 'h' 'p p'\n",
      " '7.92' 'z' 'season' 'y' '8.79' 'does None' 'has f' 'ring-type' '16.33'\n",
      " '10.85' '20.07' '2.82' '7.86' '3.91' 'does' '10.23' '6.74' '0.92' '3.45'\n",
      " '1' 'is a' '3.71' '50.44' '11.62' 'has d' '1.32' '8.47' '6.11' '2.41'\n",
      " '2.54' '6.32' '19.65' '15.49' '4.01' '8.37' 'does f' '28.7' '13.15'\n",
      " '1.37' '28.15' '7.09' '9.88' '2.67' '18.21' '1.48' '5.93' '1.51' '16.27'\n",
      " '11.26' '2.79' 'is f' '13.94']\n",
      "Новые значения gill-attachment: [ 0  1  2  3  4  5  6  7  8  9 10 11 12 13 14 15 16 17 18 19 20 21 22 23\n",
      " 24 25 26 27 28 29 30 31 32 33 34 35 36 37 38 39 40 41 42 43 44 45 46 47\n",
      " 48 49 50 51 52 53 54 55 56 57 58 59 60 61 62 63 64 65 66 67 68 69 70 71\n",
      " 72 73 74 75 76 77 78]\n"
     ]
    }
   ],
   "source": [
    "replace_cat_to_num('gill-attachment')"
   ]
  },
  {
   "cell_type": "markdown",
   "id": "5baadfa7-e200-46ec-a398-a32a0bbb645e",
   "metadata": {},
   "source": [
    "### Gill-spacing"
   ]
  },
  {
   "cell_type": "code",
   "execution_count": 15,
   "id": "0b288bf7-5ed7-47e9-bb81-db216255285f",
   "metadata": {},
   "outputs": [
    {
     "name": "stdout",
     "output_type": "stream",
     "text": [
      "Все значения gill-spacing: ['c' nan 'd' 'f' 'x' 'b' 'a' '3.61' '2.69' 'k' '4.8' 'e' 'y' 'class' 's'\n",
      " '9.01' 'p' '3.92' '5.22' '6.67' '4.04' 't' '0.73' 'i' '3.57' '24.38' 'w'\n",
      " 'h' 'cap-surface' 'l' '1' '12.27' '5.42' 'r' '1.6' 'n' 'g' '0' '3.81'\n",
      " '4.09' '1.36' '3.24' '5.55' '5.7' '3.62' 'does f' '6.4' '1.88' '55.13']\n",
      "Новые значения gill-spacing: [ 0  1  2  3  4  5  6  7  8  9 10 11 12 13 14 15 16 17 18 19 20 21 22 23\n",
      " 24 25 26 27 28 29 30 31 32 33 34 35 36 37 38 39 40 41 42 43 44 45 46 47\n",
      " 48]\n"
     ]
    }
   ],
   "source": [
    "replace_cat_to_num('gill-spacing')"
   ]
  },
  {
   "cell_type": "markdown",
   "id": "ec8ffe87-2fe7-47a7-ab7e-4b57d69d96ce",
   "metadata": {},
   "source": [
    "### Gill-color"
   ]
  },
  {
   "cell_type": "code",
   "execution_count": 16,
   "id": "9074cb5a-08e2-4109-b455-c586ee4545cf",
   "metadata": {},
   "outputs": [
    {
     "name": "stdout",
     "output_type": "stream",
     "text": [
      "Все значения gill-color: ['w' 'n' 'g' 'k' 'y' 'f' 'p' 'o' 'b' 'u' 'e' 'r' 'd' 't' '3.45' 'z' '5'\n",
      " '3.39' 'season' 'h' 'x' 's' '4' 'class' 'c' 'm' 'spacing' '0.92' nan\n",
      " '18.12' 'l' 'does w' 'a' '7.59' '8.06' '6.19' 'has-ring' '4.49' '9.46'\n",
      " '5.01' 'ring-type' '3.4' 'i' '17' '10.07' 'stem-root' '20.6'\n",
      " 'spore-print-color' '18.03' 'does-bruise-or-bleed' '8.83' 'habitat'\n",
      " '10.21' '4.64' '6.4' 'is y' 'e y' '1.91' 'does n' '16.41' '6.41'\n",
      " 'veil-type' '20.44' '8.37']\n",
      "Новые значения gill-color: [ 0  1  2  3  4  5  6  7  8  9 10 11 12 13 14 15 16 17 18 19 20 21 22 23\n",
      " 24 25 26 27 28 29 30 31 32 33 34 35 36 37 38 39 40 41 42 43 44 45 46 47\n",
      " 48 49 50 51 52 53 54 55 56 57 58 59 60 61 62 63]\n"
     ]
    }
   ],
   "source": [
    "replace_cat_to_num('gill-color')"
   ]
  },
  {
   "cell_type": "markdown",
   "id": "ebdf1c2f-a071-42e8-bcab-817c1f9c7922",
   "metadata": {},
   "source": [
    "### Stem-height"
   ]
  },
  {
   "cell_type": "code",
   "execution_count": 17,
   "id": "2cfd57f0-3d0d-465e-94f7-ed76111a60fe",
   "metadata": {},
   "outputs": [
    {
     "data": {
      "text/plain": [
       "False"
      ]
     },
     "execution_count": 17,
     "metadata": {},
     "output_type": "execute_result"
    }
   ],
   "source": [
    "df['stem-height'].isnull().any()"
   ]
  },
  {
   "cell_type": "markdown",
   "id": "ba6b9e78-72ac-40ed-88eb-7b09ea697b63",
   "metadata": {},
   "source": [
    "### Stem-width"
   ]
  },
  {
   "cell_type": "code",
   "execution_count": 18,
   "id": "ab33ce48-d31b-4bdb-8f9f-c3ccd8d5fbc5",
   "metadata": {},
   "outputs": [
    {
     "data": {
      "text/plain": [
       "False"
      ]
     },
     "execution_count": 18,
     "metadata": {},
     "output_type": "execute_result"
    }
   ],
   "source": [
    "df['stem-width'].isnull().any()"
   ]
  },
  {
   "cell_type": "markdown",
   "id": "439b1513-6e0c-4dae-992f-335df6758802",
   "metadata": {},
   "source": [
    "### Stem-root"
   ]
  },
  {
   "cell_type": "code",
   "execution_count": 19,
   "id": "3de8b2a8-9245-4fff-98c3-40bad57da393",
   "metadata": {},
   "outputs": [],
   "source": [
    "df = df.drop('stem-root', axis=1)"
   ]
  },
  {
   "cell_type": "markdown",
   "id": "debb8002-5e8f-43f6-80e5-2cd8325e7ece",
   "metadata": {},
   "source": [
    "### Stem-surface"
   ]
  },
  {
   "cell_type": "code",
   "execution_count": 20,
   "id": "0724055e-90c4-4820-8c4e-4cc65540168b",
   "metadata": {},
   "outputs": [],
   "source": [
    "df = df.drop('stem-surface', axis=1)"
   ]
  },
  {
   "cell_type": "markdown",
   "id": "3eed5659-314c-4606-b24c-c00ccc276a09",
   "metadata": {},
   "source": [
    "### Stem-color"
   ]
  },
  {
   "cell_type": "code",
   "execution_count": 21,
   "id": "66e202d1-8a72-4778-bb20-192e13393a4c",
   "metadata": {},
   "outputs": [
    {
     "name": "stdout",
     "output_type": "stream",
     "text": [
      "Все значения stem-color: ['w' 'o' 'n' 'y' 'e' 'u' 'p' 'f' 'g' 'r' 'k' 'l' 'b' '3.13' 't' 'z' 'a'\n",
      " 'h' 'd' nan 's' '7.33' 'is n' 'i' 'c' 'x' 'e n' '1.75' 'm' '33.52'\n",
      " 'ring-type' '2.78' 'spore-print-color' '23.59' '8.32' 'is w' '26.4'\n",
      " '4.75' '7.84' 'class' '2.75' '8.49' '4.49' '1.41' '17.45' '3.53' '12.92'\n",
      " '3.98' '20.07' '7.7' '22.6' '6.31' '6.09' '3.56' '3.37' '4.62' '2.54'\n",
      " '39.51' '18.06' '4.33']\n",
      "Новые значения stem-color: [ 0  1  2  3  4  5  6  7  8  9 10 11 12 13 14 15 16 17 18 19 20 21 22 23\n",
      " 24 25 26 27 28 29 30 31 32 33 34 35 36 37 38 39 40 41 42 43 44 45 46 47\n",
      " 48 49 50 51 52 53 54 55 56 57 58 59]\n"
     ]
    }
   ],
   "source": [
    "replace_cat_to_num('stem-color')"
   ]
  },
  {
   "cell_type": "markdown",
   "id": "64b6cd09-f906-46f3-9e05-e4aa3ed21d9a",
   "metadata": {},
   "source": [
    "### Veil-type"
   ]
  },
  {
   "cell_type": "code",
   "execution_count": 22,
   "id": "eb4fc8c4-2d25-4cec-8afd-343956170bcd",
   "metadata": {},
   "outputs": [],
   "source": [
    "df = df.drop('veil-type', axis=1)"
   ]
  },
  {
   "cell_type": "markdown",
   "id": "68501d97-261a-4216-b419-76c1dfd1a70f",
   "metadata": {},
   "source": [
    "### Veil-color"
   ]
  },
  {
   "cell_type": "code",
   "execution_count": 23,
   "id": "9a437b18-ce98-4976-a2bc-1802022293f8",
   "metadata": {},
   "outputs": [],
   "source": [
    "df = df.drop('veil-color', axis=1)"
   ]
  },
  {
   "cell_type": "markdown",
   "id": "2ec53082-2d08-4d22-9967-52cc8d5b7531",
   "metadata": {},
   "source": [
    "### Has-ring"
   ]
  },
  {
   "cell_type": "code",
   "execution_count": 24,
   "id": "b57802f0-96a9-4fae-afb2-c8a42b231d42",
   "metadata": {},
   "outputs": [
    {
     "name": "stdout",
     "output_type": "stream",
     "text": [
      "Все значения has-ring: ['f' 't' 'h' 'r' 'y' 'c' 'e' 'g' 'l' 's' nan 'p' 'x' 'k' 'z' 'f has-ring'\n",
      " 'd' 'o' 'n' 'm' 'i' '10.3' 'w' 'a']\n",
      "Новые значения has-ring: [ 0  1  2  3  4  5  6  7  8  9 10 11 12 13 14 15 16 17 18 19 20 21 22 23]\n"
     ]
    }
   ],
   "source": [
    "replace_cat_to_num('has-ring')"
   ]
  },
  {
   "cell_type": "markdown",
   "id": "0bfb7878-93eb-4b53-8408-c0b6c5b048ac",
   "metadata": {},
   "source": [
    "### Ring-type"
   ]
  },
  {
   "cell_type": "code",
   "execution_count": 25,
   "id": "f2b3876b-2ce1-4db0-9b7d-1a21ae3fe71e",
   "metadata": {},
   "outputs": [
    {
     "name": "stdout",
     "output_type": "stream",
     "text": [
      "Все значения ring-type: ['f' 'z' 'e' nan 'p' 'l' 'g' 'r' 'm' 'y' 'h' 'o' 't' 'ring-type' 'a' 'd'\n",
      " 's' 'x' '4' 'b' '15' 'u' 'n' 'w' 'does f' '3.12' 'i' 'season' 'k' 'c'\n",
      " 'does-bruise-or-bleed' '11' '23.6' '1' '14' '2' 'spore-print-color'\n",
      " 'class' 'sp' '2.87' '8.25']\n",
      "Новые значения ring-type: [ 0  1  2  3  4  5  6  7  8  9 10 11 12 13 14 15 16 17 18 19 20 21 22 23\n",
      " 24 25 26 27 28 29 30 31 32 33 34 35 36 37 38 39 40]\n"
     ]
    }
   ],
   "source": [
    "replace_cat_to_num('ring-type')"
   ]
  },
  {
   "cell_type": "markdown",
   "id": "05823f77-f4a1-4e3c-b59e-85fc9fbb8411",
   "metadata": {},
   "source": [
    "### Spore-print-color"
   ]
  },
  {
   "cell_type": "code",
   "execution_count": 26,
   "id": "6db50f8a-b6ee-4d1a-acd5-9c68af3901f0",
   "metadata": {},
   "outputs": [],
   "source": [
    "df = df.drop('spore-print-color', axis=1)"
   ]
  },
  {
   "cell_type": "markdown",
   "id": "a8b8140f-e059-460d-a4f5-9144cf92303f",
   "metadata": {},
   "source": [
    "### Habitat"
   ]
  },
  {
   "cell_type": "code",
   "execution_count": 27,
   "id": "9f62df92-e426-4018-8fc0-869f03a8b5fb",
   "metadata": {},
   "outputs": [
    {
     "name": "stdout",
     "output_type": "stream",
     "text": [
      "Все значения habitat: ['d' 'l' 'g' 'h' 'p' 'm' 'u' 'w' 'y' nan 'n' 'a' 's' 'k' 'habitat' 'z'\n",
      " '8.09' '17.1' 'b' 't' 'c' '9.28' 'ring-type' 'e' 'r'\n",
      " 'does-bruise-or-bleed' 'f' 'is w' 'o' '2.94' 'x' '4' 'is h' '5.56'\n",
      " 'class' 'i' '10.07' '7.31' '5.62' 'spore-print-color' 'cap-diameter'\n",
      " '3.11' '16.46' '7.37' 'veil-type' '17.38' '1.66' '6.63' '18.35' '6.75'\n",
      " '2.44' '3.68' '2.25']\n",
      "Новые значения habitat: [ 0  1  2  3  4  5  6  7  8  9 10 11 12 13 14 15 16 17 18 19 20 21 22 23\n",
      " 24 25 26 27 28 29 30 31 32 33 34 35 36 37 38 39 40 41 42 43 44 45 46 47\n",
      " 48 49 50 51 52]\n"
     ]
    }
   ],
   "source": [
    "replace_cat_to_num('habitat')"
   ]
  },
  {
   "cell_type": "markdown",
   "id": "15294f1d-286d-482e-a833-8d93d3a99011",
   "metadata": {},
   "source": [
    "### Cap-diameter"
   ]
  },
  {
   "cell_type": "code",
   "execution_count": 28,
   "id": "927085d1-34f6-4733-981e-fcafe9eda954",
   "metadata": {},
   "outputs": [
    {
     "data": {
      "text/plain": [
       "id                      False\n",
       "class                   False\n",
       "cap-diameter             True\n",
       "cap-shape               False\n",
       "cap-surface             False\n",
       "cap-color               False\n",
       "does-bruise-or-bleed    False\n",
       "gill-attachment         False\n",
       "gill-spacing            False\n",
       "gill-color              False\n",
       "stem-height             False\n",
       "stem-width              False\n",
       "stem-color              False\n",
       "has-ring                False\n",
       "ring-type               False\n",
       "habitat                 False\n",
       "season                  False\n",
       "dtype: bool"
      ]
     },
     "execution_count": 28,
     "metadata": {},
     "output_type": "execute_result"
    }
   ],
   "source": [
    "df.isnull().any()"
   ]
  },
  {
   "cell_type": "code",
   "execution_count": 29,
   "id": "55138485-1bb2-4ce7-acb1-29bfbafed7af",
   "metadata": {},
   "outputs": [],
   "source": [
    "df['cap-diameter'].fillna(df['cap-diameter'].median(), inplace=True)"
   ]
  },
  {
   "cell_type": "markdown",
   "id": "ce215bc8-b007-4d87-ab7d-ea9023f1c607",
   "metadata": {},
   "source": [
    "### Id"
   ]
  },
  {
   "cell_type": "code",
   "execution_count": 30,
   "id": "e26113a2-64ec-46e8-bb1e-9331b9bd07da",
   "metadata": {},
   "outputs": [],
   "source": [
    "df = df.drop('id', axis=1)"
   ]
  },
  {
   "cell_type": "markdown",
   "id": "221bbf03-f288-453a-8184-eb6299869a0b",
   "metadata": {},
   "source": [
    "## Валидация на отложенной выборке"
   ]
  },
  {
   "cell_type": "code",
   "execution_count": 31,
   "id": "ed2d2592-7b83-4092-bd35-ead8a52592d7",
   "metadata": {},
   "outputs": [],
   "source": [
    "df_test = df.sample(n=1000000, random_state=27)\n",
    "df_train = df.drop(index=df_test.index)"
   ]
  },
  {
   "cell_type": "code",
   "execution_count": 32,
   "id": "7364eb34-c012-45b2-bcdb-d68db53030bc",
   "metadata": {},
   "outputs": [],
   "source": [
    "X_train = df_train[df_train.columns[1:]]\n",
    "y_train = df_train['class']\n",
    "\n",
    "X_test = df_test[df_test.columns[1:]]\n",
    "y_test = df_test['class']"
   ]
  },
  {
   "cell_type": "markdown",
   "id": "d2f8d581-e94d-4ffa-8bfd-53a3d8b9e3d3",
   "metadata": {},
   "source": [
    "## Baseline"
   ]
  },
  {
   "cell_type": "code",
   "execution_count": 33,
   "id": "a9741680-b718-4f55-b4b3-553edd0ee4d4",
   "metadata": {},
   "outputs": [],
   "source": [
    "from sklearn.metrics import matthews_corrcoef\n",
    "import numpy as np"
   ]
  },
  {
   "cell_type": "code",
   "execution_count": 34,
   "id": "c3467ddc-55d8-4675-927c-e6b56747de8a",
   "metadata": {},
   "outputs": [
    {
     "name": "stdout",
     "output_type": "stream",
     "text": [
      "Значение метрики МСС при предскзаании медианой: 0.0\n"
     ]
    }
   ],
   "source": [
    "predictions = np.array([y_train.median()]*1000000)\n",
    "baseline = matthews_corrcoef(y_test, predictions)\n",
    "print(f\"Значение метрики МСС при предскзаании медианой: {baseline}\")"
   ]
  },
  {
   "cell_type": "markdown",
   "id": "c1c9670d-f4fa-47bc-9e4d-3cd53563ff68",
   "metadata": {},
   "source": [
    "## Обучение и сравнение модели на тестовой и обучающей выборках"
   ]
  },
  {
   "cell_type": "code",
   "execution_count": 35,
   "id": "2aa2b961-e33e-42b7-a6c5-5ac1107634a6",
   "metadata": {},
   "outputs": [],
   "source": [
    "from sklearn.linear_model import LogisticRegression\n",
    "from sklearn.preprocessing import MinMaxScaler\n",
    "from sklearn.pipeline import Pipeline\n",
    "import warnings\n",
    "warnings.simplefilter(\"ignore\")"
   ]
  },
  {
   "cell_type": "code",
   "execution_count": 36,
   "id": "6868bc02-fff6-4d55-a180-5717ee1b193f",
   "metadata": {},
   "outputs": [
    {
     "data": {
      "text/html": [
       "<style>#sk-container-id-1 {color: black;background-color: white;}#sk-container-id-1 pre{padding: 0;}#sk-container-id-1 div.sk-toggleable {background-color: white;}#sk-container-id-1 label.sk-toggleable__label {cursor: pointer;display: block;width: 100%;margin-bottom: 0;padding: 0.3em;box-sizing: border-box;text-align: center;}#sk-container-id-1 label.sk-toggleable__label-arrow:before {content: \"▸\";float: left;margin-right: 0.25em;color: #696969;}#sk-container-id-1 label.sk-toggleable__label-arrow:hover:before {color: black;}#sk-container-id-1 div.sk-estimator:hover label.sk-toggleable__label-arrow:before {color: black;}#sk-container-id-1 div.sk-toggleable__content {max-height: 0;max-width: 0;overflow: hidden;text-align: left;background-color: #f0f8ff;}#sk-container-id-1 div.sk-toggleable__content pre {margin: 0.2em;color: black;border-radius: 0.25em;background-color: #f0f8ff;}#sk-container-id-1 input.sk-toggleable__control:checked~div.sk-toggleable__content {max-height: 200px;max-width: 100%;overflow: auto;}#sk-container-id-1 input.sk-toggleable__control:checked~label.sk-toggleable__label-arrow:before {content: \"▾\";}#sk-container-id-1 div.sk-estimator input.sk-toggleable__control:checked~label.sk-toggleable__label {background-color: #d4ebff;}#sk-container-id-1 div.sk-label input.sk-toggleable__control:checked~label.sk-toggleable__label {background-color: #d4ebff;}#sk-container-id-1 input.sk-hidden--visually {border: 0;clip: rect(1px 1px 1px 1px);clip: rect(1px, 1px, 1px, 1px);height: 1px;margin: -1px;overflow: hidden;padding: 0;position: absolute;width: 1px;}#sk-container-id-1 div.sk-estimator {font-family: monospace;background-color: #f0f8ff;border: 1px dotted black;border-radius: 0.25em;box-sizing: border-box;margin-bottom: 0.5em;}#sk-container-id-1 div.sk-estimator:hover {background-color: #d4ebff;}#sk-container-id-1 div.sk-parallel-item::after {content: \"\";width: 100%;border-bottom: 1px solid gray;flex-grow: 1;}#sk-container-id-1 div.sk-label:hover label.sk-toggleable__label {background-color: #d4ebff;}#sk-container-id-1 div.sk-serial::before {content: \"\";position: absolute;border-left: 1px solid gray;box-sizing: border-box;top: 0;bottom: 0;left: 50%;z-index: 0;}#sk-container-id-1 div.sk-serial {display: flex;flex-direction: column;align-items: center;background-color: white;padding-right: 0.2em;padding-left: 0.2em;position: relative;}#sk-container-id-1 div.sk-item {position: relative;z-index: 1;}#sk-container-id-1 div.sk-parallel {display: flex;align-items: stretch;justify-content: center;background-color: white;position: relative;}#sk-container-id-1 div.sk-item::before, #sk-container-id-1 div.sk-parallel-item::before {content: \"\";position: absolute;border-left: 1px solid gray;box-sizing: border-box;top: 0;bottom: 0;left: 50%;z-index: -1;}#sk-container-id-1 div.sk-parallel-item {display: flex;flex-direction: column;z-index: 1;position: relative;background-color: white;}#sk-container-id-1 div.sk-parallel-item:first-child::after {align-self: flex-end;width: 50%;}#sk-container-id-1 div.sk-parallel-item:last-child::after {align-self: flex-start;width: 50%;}#sk-container-id-1 div.sk-parallel-item:only-child::after {width: 0;}#sk-container-id-1 div.sk-dashed-wrapped {border: 1px dashed gray;margin: 0 0.4em 0.5em 0.4em;box-sizing: border-box;padding-bottom: 0.4em;background-color: white;}#sk-container-id-1 div.sk-label label {font-family: monospace;font-weight: bold;display: inline-block;line-height: 1.2em;}#sk-container-id-1 div.sk-label-container {text-align: center;}#sk-container-id-1 div.sk-container {/* jupyter's `normalize.less` sets `[hidden] { display: none; }` but bootstrap.min.css set `[hidden] { display: none !important; }` so we also need the `!important` here to be able to override the default hidden behavior on the sphinx rendered scikit-learn.org. See: https://github.com/scikit-learn/scikit-learn/issues/21755 */display: inline-block !important;position: relative;}#sk-container-id-1 div.sk-text-repr-fallback {display: none;}</style><div id=\"sk-container-id-1\" class=\"sk-top-container\"><div class=\"sk-text-repr-fallback\"><pre>Pipeline(steps=[(&#x27;scaling&#x27;, MinMaxScaler()),\n",
       "                (&#x27;model&#x27;, LogisticRegression(random_state=27))])</pre><b>In a Jupyter environment, please rerun this cell to show the HTML representation or trust the notebook. <br />On GitHub, the HTML representation is unable to render, please try loading this page with nbviewer.org.</b></div><div class=\"sk-container\" hidden><div class=\"sk-item sk-dashed-wrapped\"><div class=\"sk-label-container\"><div class=\"sk-label sk-toggleable\"><input class=\"sk-toggleable__control sk-hidden--visually\" id=\"sk-estimator-id-1\" type=\"checkbox\" ><label for=\"sk-estimator-id-1\" class=\"sk-toggleable__label sk-toggleable__label-arrow\">Pipeline</label><div class=\"sk-toggleable__content\"><pre>Pipeline(steps=[(&#x27;scaling&#x27;, MinMaxScaler()),\n",
       "                (&#x27;model&#x27;, LogisticRegression(random_state=27))])</pre></div></div></div><div class=\"sk-serial\"><div class=\"sk-item\"><div class=\"sk-estimator sk-toggleable\"><input class=\"sk-toggleable__control sk-hidden--visually\" id=\"sk-estimator-id-2\" type=\"checkbox\" ><label for=\"sk-estimator-id-2\" class=\"sk-toggleable__label sk-toggleable__label-arrow\">MinMaxScaler</label><div class=\"sk-toggleable__content\"><pre>MinMaxScaler()</pre></div></div></div><div class=\"sk-item\"><div class=\"sk-estimator sk-toggleable\"><input class=\"sk-toggleable__control sk-hidden--visually\" id=\"sk-estimator-id-3\" type=\"checkbox\" ><label for=\"sk-estimator-id-3\" class=\"sk-toggleable__label sk-toggleable__label-arrow\">LogisticRegression</label><div class=\"sk-toggleable__content\"><pre>LogisticRegression(random_state=27)</pre></div></div></div></div></div></div></div>"
      ],
      "text/plain": [
       "Pipeline(steps=[('scaling', MinMaxScaler()),\n",
       "                ('model', LogisticRegression(random_state=27))])"
      ]
     },
     "execution_count": 36,
     "metadata": {},
     "output_type": "execute_result"
    }
   ],
   "source": [
    "pipeline = Pipeline(\n",
    "    steps=[\n",
    "        (\"scaling\", MinMaxScaler()),\n",
    "        (\"model\", LogisticRegression(random_state=27))\n",
    "    ]\n",
    ")\n",
    "\n",
    "pipeline.fit(X_train, y_train)"
   ]
  },
  {
   "cell_type": "code",
   "execution_count": 37,
   "id": "b463c1e9-cedc-43ab-bf24-5e8b4fdef114",
   "metadata": {},
   "outputs": [
    {
     "name": "stdout",
     "output_type": "stream",
     "text": [
      "Train-score: 0.3122510680731061, Test-score: 0.31027380896948026\n"
     ]
    }
   ],
   "source": [
    "proba = pipeline.predict_proba(X_test)[:, 1]\n",
    "proba_train = pipeline.predict_proba(X_train)[:, 1]\n",
    "\n",
    "train_score = matthews_corrcoef(y_train, np.round(proba_train))\n",
    "test_score = matthews_corrcoef(y_test, np.round(proba))\n",
    "\n",
    "print(f\"Train-score: {train_score}, Test-score: {test_score}\")"
   ]
  },
  {
   "cell_type": "markdown",
   "id": "b877b259-82b2-478d-a039-21fb933ff69c",
   "metadata": {},
   "source": [
    "## K-Fold кросс-валидация"
   ]
  },
  {
   "cell_type": "raw",
   "id": "1c943a08-7331-4127-ab85-604e5d610a9a",
   "metadata": {},
   "source": [
    "Попробую кросс-валидацию"
   ]
  },
  {
   "cell_type": "code",
   "execution_count": 38,
   "id": "d2675aed-c870-475b-b76c-7b0e721b2c4e",
   "metadata": {},
   "outputs": [],
   "source": [
    "from sklearn.model_selection import KFold\n",
    "from sklearn.model_selection import cross_val_score"
   ]
  },
  {
   "cell_type": "code",
   "execution_count": 39,
   "id": "fe09e0b4-0fe2-45d5-b415-8e2684d530d1",
   "metadata": {},
   "outputs": [
    {
     "name": "stdout",
     "output_type": "stream",
     "text": [
      "CV-results: 0.3107389186984791 +/- 0.002\n"
     ]
    }
   ],
   "source": [
    "kfold = KFold(n_splits=10, shuffle=True, random_state=27)\n",
    "\n",
    "cv = cross_val_score(\n",
    "    estimator=pipeline,\n",
    "    X=df.drop(['class'], axis=1),\n",
    "    y=df['class'],\n",
    "    scoring='matthews_corrcoef',\n",
    "    cv=kfold\n",
    ")\n",
    "\n",
    "print(f\"CV-results: {np.mean(cv)} +/- {round(np.std(cv), 3)}\")"
   ]
  },
  {
   "cell_type": "code",
   "execution_count": null,
   "id": "b160dba5-3b74-4205-9bd5-0ba2eb351022",
   "metadata": {},
   "outputs": [],
   "source": []
  }
 ],
 "metadata": {
  "kernelspec": {
   "display_name": "Python 3 (ipykernel)",
   "language": "python",
   "name": "python3"
  },
  "language_info": {
   "codemirror_mode": {
    "name": "ipython",
    "version": 3
   },
   "file_extension": ".py",
   "mimetype": "text/x-python",
   "name": "python",
   "nbconvert_exporter": "python",
   "pygments_lexer": "ipython3",
   "version": "3.11.5"
  }
 },
 "nbformat": 4,
 "nbformat_minor": 5
}
